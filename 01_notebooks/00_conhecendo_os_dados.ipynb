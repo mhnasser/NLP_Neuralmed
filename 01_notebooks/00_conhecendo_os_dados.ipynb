{
 "cells": [
  {
   "cell_type": "markdown",
   "id": "fdd64cc6-f3d9-46dc-b570-81de77c533c4",
   "metadata": {},
   "source": [
    "## Imports"
   ]
  },
  {
   "cell_type": "code",
   "execution_count": 1,
   "id": "262f58cc-26b3-4729-9533-f3d9be021c7c",
   "metadata": {},
   "outputs": [],
   "source": [
    "import pandas as pd\n",
    "from pathlib import Path"
   ]
  },
  {
   "cell_type": "markdown",
   "id": "8c886781-892b-4d12-a505-5007a4bd7f97",
   "metadata": {},
   "source": [
    "## Configs"
   ]
  },
  {
   "cell_type": "code",
   "execution_count": 3,
   "id": "0ad97731-4943-407d-b701-318bd15655a2",
   "metadata": {},
   "outputs": [],
   "source": [
    "raw_data_path = Path('../00_dados/raw/sample_teste_nlp.csv')"
   ]
  },
  {
   "cell_type": "markdown",
   "id": "0f364f68-43b0-4eb7-a577-0547238fa8c6",
   "metadata": {},
   "source": [
    "## Importando os dados"
   ]
  },
  {
   "cell_type": "code",
   "execution_count": 5,
   "id": "50e15484-9495-4554-8a79-daf8c8102554",
   "metadata": {},
   "outputs": [],
   "source": [
    "df = pd.read_csv(raw_data_path)"
   ]
  },
  {
   "cell_type": "code",
   "execution_count": 8,
   "id": "a3ec8746-ac7e-4336-a4f8-36c5503bfd0a",
   "metadata": {},
   "outputs": [
    {
     "data": {
      "text/html": [
       "<div>\n",
       "<style scoped>\n",
       "    .dataframe tbody tr th:only-of-type {\n",
       "        vertical-align: middle;\n",
       "    }\n",
       "\n",
       "    .dataframe tbody tr th {\n",
       "        vertical-align: top;\n",
       "    }\n",
       "\n",
       "    .dataframe thead th {\n",
       "        text-align: right;\n",
       "    }\n",
       "</style>\n",
       "<table border=\"1\" class=\"dataframe\">\n",
       "  <thead>\n",
       "    <tr style=\"text-align: right;\">\n",
       "      <th></th>\n",
       "      <th>patient_id</th>\n",
       "      <th>age</th>\n",
       "      <th>sex</th>\n",
       "      <th>ehr_date</th>\n",
       "      <th>text</th>\n",
       "    </tr>\n",
       "  </thead>\n",
       "  <tbody>\n",
       "    <tr>\n",
       "      <th>0</th>\n",
       "      <td>341196</td>\n",
       "      <td>82.0</td>\n",
       "      <td>M</td>\n",
       "      <td>2023-09-05 10:23:37</td>\n",
       "      <td>&lt;html tasy=\"html5\"&gt;&lt;body&gt;&lt;p style=\"text-align:...</td>\n",
       "    </tr>\n",
       "    <tr>\n",
       "      <th>1</th>\n",
       "      <td>4309949</td>\n",
       "      <td>32.0</td>\n",
       "      <td>F</td>\n",
       "      <td>2023-11-01 12:10:59</td>\n",
       "      <td>&lt;html tasy=\"html5\"&gt;&lt;body&gt;&lt;p style=\"text-align:...</td>\n",
       "    </tr>\n",
       "    <tr>\n",
       "      <th>2</th>\n",
       "      <td>404932</td>\n",
       "      <td>91.0</td>\n",
       "      <td>M</td>\n",
       "      <td>2023-09-16 07:24:02</td>\n",
       "      <td>{\\rtf1\\ansi\\ansicpg1252{\\fonttbl{\\f0\\fnil\\fcha...</td>\n",
       "    </tr>\n",
       "    <tr>\n",
       "      <th>3</th>\n",
       "      <td>5603035</td>\n",
       "      <td>53.0</td>\n",
       "      <td>F</td>\n",
       "      <td>2024-08-03 06:56:48</td>\n",
       "      <td>RET 6 MESES PARA AVALIAÇÃO CALCIO + VIT D</td>\n",
       "    </tr>\n",
       "    <tr>\n",
       "      <th>4</th>\n",
       "      <td>154876</td>\n",
       "      <td>27.0</td>\n",
       "      <td>M</td>\n",
       "      <td>2023-11-05 04:58:01</td>\n",
       "      <td>{\\rtf1\\ansi\\ansicpg1252{\\fonttbl{\\f0\\fnil\\fcha...</td>\n",
       "    </tr>\n",
       "    <tr>\n",
       "      <th>...</th>\n",
       "      <td>...</td>\n",
       "      <td>...</td>\n",
       "      <td>...</td>\n",
       "      <td>...</td>\n",
       "      <td>...</td>\n",
       "    </tr>\n",
       "    <tr>\n",
       "      <th>6829</th>\n",
       "      <td>4888904</td>\n",
       "      <td>40.0</td>\n",
       "      <td>M</td>\n",
       "      <td>2023-11-17 18:23:20</td>\n",
       "      <td>{\\rtf1\\ansi\\ansicpg1252{\\fonttbl{\\f0\\fnil\\fcha...</td>\n",
       "    </tr>\n",
       "    <tr>\n",
       "      <th>6830</th>\n",
       "      <td>395277</td>\n",
       "      <td>38.0</td>\n",
       "      <td>F</td>\n",
       "      <td>2023-09-27 22:15:42</td>\n",
       "      <td>{\\rtf1\\ansi\\ansicpg1252{\\fonttbl{\\f0\\fnil\\fcha...</td>\n",
       "    </tr>\n",
       "    <tr>\n",
       "      <th>6831</th>\n",
       "      <td>2086843</td>\n",
       "      <td>61.0</td>\n",
       "      <td>M</td>\n",
       "      <td>2023-11-08 19:19:44</td>\n",
       "      <td>&lt;html tasy=\"html5\"&gt;&lt;body&gt;&lt;p style=\"text-align:...</td>\n",
       "    </tr>\n",
       "    <tr>\n",
       "      <th>6832</th>\n",
       "      <td>500002679850091</td>\n",
       "      <td>37.0</td>\n",
       "      <td>F</td>\n",
       "      <td>2020-12-28 00:00:00</td>\n",
       "      <td># NOME: BRUNA ALVES PINTO PEREIRA, 32 ANOS, DN...</td>\n",
       "    </tr>\n",
       "    <tr>\n",
       "      <th>6833</th>\n",
       "      <td>-80520</td>\n",
       "      <td>64.0</td>\n",
       "      <td>M</td>\n",
       "      <td>2024-04-30 13:48:39</td>\n",
       "      <td>&lt;html tasy=\"html5\"&gt;&lt;body&gt;&lt;p style=\"text-align:...</td>\n",
       "    </tr>\n",
       "  </tbody>\n",
       "</table>\n",
       "<p>6834 rows × 5 columns</p>\n",
       "</div>"
      ],
      "text/plain": [
       "           patient_id   age sex             ehr_date  \\\n",
       "0              341196  82.0   M  2023-09-05 10:23:37   \n",
       "1             4309949  32.0   F  2023-11-01 12:10:59   \n",
       "2              404932  91.0   M  2023-09-16 07:24:02   \n",
       "3             5603035  53.0   F  2024-08-03 06:56:48   \n",
       "4              154876  27.0   M  2023-11-05 04:58:01   \n",
       "...               ...   ...  ..                  ...   \n",
       "6829          4888904  40.0   M  2023-11-17 18:23:20   \n",
       "6830           395277  38.0   F  2023-09-27 22:15:42   \n",
       "6831          2086843  61.0   M  2023-11-08 19:19:44   \n",
       "6832  500002679850091  37.0   F  2020-12-28 00:00:00   \n",
       "6833           -80520  64.0   M  2024-04-30 13:48:39   \n",
       "\n",
       "                                                   text  \n",
       "0     <html tasy=\"html5\"><body><p style=\"text-align:...  \n",
       "1     <html tasy=\"html5\"><body><p style=\"text-align:...  \n",
       "2     {\\rtf1\\ansi\\ansicpg1252{\\fonttbl{\\f0\\fnil\\fcha...  \n",
       "3             RET 6 MESES PARA AVALIAÇÃO CALCIO + VIT D  \n",
       "4     {\\rtf1\\ansi\\ansicpg1252{\\fonttbl{\\f0\\fnil\\fcha...  \n",
       "...                                                 ...  \n",
       "6829  {\\rtf1\\ansi\\ansicpg1252{\\fonttbl{\\f0\\fnil\\fcha...  \n",
       "6830  {\\rtf1\\ansi\\ansicpg1252{\\fonttbl{\\f0\\fnil\\fcha...  \n",
       "6831  <html tasy=\"html5\"><body><p style=\"text-align:...  \n",
       "6832  # NOME: BRUNA ALVES PINTO PEREIRA, 32 ANOS, DN...  \n",
       "6833  <html tasy=\"html5\"><body><p style=\"text-align:...  \n",
       "\n",
       "[6834 rows x 5 columns]"
      ]
     },
     "execution_count": 8,
     "metadata": {},
     "output_type": "execute_result"
    }
   ],
   "source": [
    "df"
   ]
  },
  {
   "cell_type": "code",
   "execution_count": 11,
   "id": "3e1a5746-463b-46dc-9539-8e455ece6bc7",
   "metadata": {},
   "outputs": [
    {
     "data": {
      "text/plain": [
       "'<html tasy=\"html5\"><body><p style=\"text-align:left; font-size:16px;\"><span style=\"font-size:16px;\">&#x200B;PACIENTE COM CEFALEIA OCCIPITAL, CRISE HÁ 3 DIAS. SENSAÇÃO APAGÃO JUNTO. MUDANÇA NO PADRÃO - APRESENTAVA ENXAQUECA.</span></p><p style=\"text-align:left; font-size:16px;\"><span style=\"font-size:16px;\">&#x200B;EF: G15, PIFR, SEM DEFICITS</span></p><p style=\"text-align:left; font-size:16px;\"><span style=\"font-size:16px;\">&#x200B;HD: CEFALEIA/ ESQUECIMENTOS A/E</span></p><p style=\"text-align:left; font-size:16px;\"><span style=\"font-size:16px;\">&#x200B;CD:</span></p><p style=\"text-align:left; font-size:16px;\"><span style=\"font-size:16px;\">RM CRANIO COM CONTRATE</span></p><p style=\"text-align:left; font-size:16px;\"><span style=\"font-size:16px;\">&#x200B;EEG</span></p><p style=\"text-align:left; font-size:16px;\"><span style=\"font-size:16px;\">&#x200B;CICLOBENZAPRINA 10MG 1 CP A NOITE</span></p></body></html>'"
      ]
     },
     "execution_count": 11,
     "metadata": {},
     "output_type": "execute_result"
    }
   ],
   "source": [
    "df.text[1]"
   ]
  },
  {
   "cell_type": "markdown",
   "id": "cf989983-eacf-4e04-a0fd-8dcb39cffa4d",
   "metadata": {},
   "source": [
    "**Q1** - Faça uma análise descritiva em cima dos documentos. O que você conclui apenas olhando para eles? Qual a forma de escrita dos documentos? Há tipos diferentes? Olhando os textos consegue identificar alguma alteração comum entre os pacientes? \n",
    "\n",
    "Os dados fazem parte de uma base de atendimentos médicos, contendo o ID do paciente, idade e sexo. Pelas minhas pesquisas, EHR significa Electronic Health Record (registro de saúde eletrônico), que é um prontuário médico digital que reúne o histórico de saúde de um paciente e pode ser compartilhado entre vários profissionais de saúde. A coluna ehr_date provavelmente representa a data da última atualização ou criação do prontuário eletrônico. Por fim, temos a coluna text, na qual foi possível identificar três padrões de texto:\n",
    "\n",
    "- #### Formato HTML\n",
    "\n",
    "Textos que contêm tags HTML `(<html>, <body>, <p>, etc.)`. Esse formato é geralmente usado em páginas web ou quando o texto é exportado de um sistema que usa HTML.\n",
    "Exemplo: `<html tasy=\"html5\"><body><p style=\"text-align:left; font-size:16px;\">...`\n",
    "\n",
    "- #### Formato RTF (Rich Text Format):\n",
    "\n",
    "Textos que incluem tags e códigos específicos do RTF ({\\rtf1\\ansi, \\fonttbl, \\colortbl, etc.). Esse formato é típico de arquivos de texto enriquecido, usados em editores como o Microsoft Word.\n",
    "Exemplo: \"{\\rtf1\\ansi\\ansicpg1252{\\fonttbl{\\f0\\fnil\\fcharset0\\fprq2 Arial;}\"...\n",
    "\n",
    "- #### Texto Simples:\n",
    "\n",
    "Textos sem formatação HTML ou RTF, contendo apenas o conteúdo escrito. Esses são registros que foram inseridos ou exportados como texto plano.\n",
    "Exemplo: \"RET 6 MESES PARA AVALIAÇÃO CALCIO + VIT D\""
   ]
  }
 ],
 "metadata": {
  "kernelspec": {
   "display_name": "Python 3 (ipykernel)",
   "language": "python",
   "name": "python3"
  },
  "language_info": {
   "codemirror_mode": {
    "name": "ipython",
    "version": 3
   },
   "file_extension": ".py",
   "mimetype": "text/x-python",
   "name": "python",
   "nbconvert_exporter": "python",
   "pygments_lexer": "ipython3",
   "version": "3.12.3"
  }
 },
 "nbformat": 4,
 "nbformat_minor": 5
}
