{
 "cells": [
  {
   "cell_type": "markdown",
   "id": "6cc9bccc-773e-4fa3-a772-e17ba5aa751b",
   "metadata": {},
   "source": [
    "## Imports"
   ]
  },
  {
   "cell_type": "code",
   "execution_count": 2,
   "id": "0e89cb63-b179-484e-bf0c-3b0258ea88a3",
   "metadata": {},
   "outputs": [],
   "source": [
    "import re\n",
    "import time\n",
    "import pandas as pd\n",
    "import warnings\n",
    "from anthropic import Anthropic\n",
    "from pathlib import Path\n",
    "from tqdm import tqdm"
   ]
  },
  {
   "cell_type": "markdown",
   "id": "3f69ccc0-d274-4f84-8353-8b453feb7b35",
   "metadata": {},
   "source": [
    "## Configs"
   ]
  },
  {
   "cell_type": "code",
   "execution_count": 4,
   "id": "7389ccd8-32cc-4ec7-9ee1-9a0e0954680b",
   "metadata": {},
   "outputs": [],
   "source": [
    "anthropic = Anthropic(api_key=open('../token.txt','r').read())\n",
    "api_key= open('../token.txt','r').read()\n",
    "warnings.filterwarnings('ignore')\n",
    "raw_data_path = Path('../00_dados/raw/sample_teste_nlp.csv')"
   ]
  },
  {
   "cell_type": "markdown",
   "id": "7d938ad5-659d-4643-a15c-c0d96d53b213",
   "metadata": {},
   "source": [
    "## Testando API"
   ]
  },
  {
   "cell_type": "code",
   "execution_count": 6,
   "id": "8c117c15-2726-4a06-b060-587eb0ce6e08",
   "metadata": {},
   "outputs": [
    {
     "data": {
      "text/plain": [
       "'# Fazer uma chamada simples\\nmessage = anthropic.messages.create(\\n    model=\"claude-3-sonnet-20240229\",\\n    max_tokens=1000,\\n    messages=[{\\n        \"role\": \"user\",\\n        \"content\": \"Olá, como vai?\"\\n    }]\\n)\\n\\nprint(message.content)'"
      ]
     },
     "execution_count": 6,
     "metadata": {},
     "output_type": "execute_result"
    }
   ],
   "source": [
    "'''# Fazer uma chamada simples\n",
    "message = anthropic.messages.create(\n",
    "    model=\"claude-3-sonnet-20240229\",\n",
    "    max_tokens=1000,\n",
    "    messages=[{\n",
    "        \"role\": \"user\",\n",
    "        \"content\": \"Olá, como vai?\"\n",
    "    }]\n",
    ")\n",
    "\n",
    "print(message.content)'''"
   ]
  },
  {
   "cell_type": "markdown",
   "id": "be871b81-fc05-449f-918d-80923b01221a",
   "metadata": {},
   "source": [
    "## Funções Auxiliares"
   ]
  },
  {
   "cell_type": "code",
   "execution_count": 39,
   "id": "77efc476-2c00-4256-b861-40cc8cef10c5",
   "metadata": {},
   "outputs": [],
   "source": [
    "def limpar_texto_com_claude(df, coluna_texto, api_key):\n",
    "    \"\"\"\n",
    "    Função para limpar textos de um DataFrame usando a API do Claude,\n",
    "    com barra de progresso.\n",
    "    \n",
    "    Parâmetros:\n",
    "    df (pandas.DataFrame): DataFrame com a coluna de texto\n",
    "    coluna_texto (str): Nome da coluna que contém os textos\n",
    "    api_key (str): Chave da API da Anthropic\n",
    "    \n",
    "    Retorna:\n",
    "    pandas.DataFrame: DataFrame com a nova coluna de texto limpo\n",
    "    \"\"\"\n",
    "    # Inicializar o cliente Claude\n",
    "    anthropic = Anthropic(api_key=api_key)\n",
    "    \n",
    "    def processar_texto(texto):\n",
    "        try:\n",
    "            # Adicionar pequeno delay para evitar limite de requisições\n",
    "            time.sleep(0.5)\n",
    "            \n",
    "            # Instrução para o Claude sobre como limpar o texto\n",
    "            prompt = f\"\"\"\n",
    "            Por favor, limpe o seguinte texto removendo:\n",
    "            - Remova todas as tags html\n",
    "            - Remova toda simbologia rft\n",
    "            - Simbologia de quebra de linhas e tabulação\n",
    "            - Caracteres especiais desnecessários\n",
    "            - Espaços extras\n",
    "            - Quebras de linha desnecessárias\n",
    "            - Formatação inconsistente\n",
    "            - Deixe tudo em letras minúsculas\n",
    "            \n",
    "            Mantenha o significado original do texto e um texto que faça sentido com palavras reais.\n",
    "            \n",
    "            Texto original: {texto}\n",
    "            \n",
    "            Retorne apenas o texto limpo, sem explicações adicionais.\n",
    "            \"\"\"\n",
    "            \n",
    "            # Fazer a chamada à API\n",
    "            response = anthropic.messages.create(\n",
    "                model=\"claude-3-sonnet-20240229\",\n",
    "                max_tokens=1000,\n",
    "                messages=[{\n",
    "                    \"role\": \"user\",\n",
    "                    \"content\": prompt\n",
    "                }]\n",
    "            )\n",
    "            \n",
    "            return response.content\n",
    "        except Exception as e:\n",
    "            print(f\"\\nErro ao processar texto: {e}\")\n",
    "            return texto  # Retorna o texto original em caso de erro\n",
    "    \n",
    "    # Lista para armazenar os resultados\n",
    "    textos_limpos = []\n",
    "    \n",
    "    # Criar barra de progresso\n",
    "    print(f\"Processando {len(df)} textos...\")\n",
    "    for texto in tqdm(df[coluna_texto], desc=\"Limpando textos\", unit=\"texto\"):\n",
    "        texto_limpo = processar_texto(texto)\n",
    "        texto_limpo = str(texto_limpo[0])\n",
    "        textos_limpos.append(texto_limpo[16:-15])\n",
    "    \n",
    "    # Adicionar coluna com os textos limpos\n",
    "    df['texto_limpo'] = textos_limpos\n",
    "    \n",
    "    return df"
   ]
  },
  {
   "cell_type": "markdown",
   "id": "941e02fd-5ef4-4c58-bd65-c8653830a273",
   "metadata": {},
   "source": [
    "## Importação dos dados"
   ]
  },
  {
   "cell_type": "code",
   "execution_count": 10,
   "id": "6fdaa359-e3f6-428b-882e-7060e2fa6f27",
   "metadata": {},
   "outputs": [
    {
     "data": {
      "text/html": [
       "<div>\n",
       "<style scoped>\n",
       "    .dataframe tbody tr th:only-of-type {\n",
       "        vertical-align: middle;\n",
       "    }\n",
       "\n",
       "    .dataframe tbody tr th {\n",
       "        vertical-align: top;\n",
       "    }\n",
       "\n",
       "    .dataframe thead th {\n",
       "        text-align: right;\n",
       "    }\n",
       "</style>\n",
       "<table border=\"1\" class=\"dataframe\">\n",
       "  <thead>\n",
       "    <tr style=\"text-align: right;\">\n",
       "      <th></th>\n",
       "      <th>patient_id</th>\n",
       "      <th>age</th>\n",
       "      <th>sex</th>\n",
       "      <th>ehr_date</th>\n",
       "      <th>text</th>\n",
       "    </tr>\n",
       "  </thead>\n",
       "  <tbody>\n",
       "    <tr>\n",
       "      <th>0</th>\n",
       "      <td>341196</td>\n",
       "      <td>82.0</td>\n",
       "      <td>M</td>\n",
       "      <td>2023-09-05 10:23:37</td>\n",
       "      <td>&lt;html tasy=\"html5\"&gt;&lt;body&gt;&lt;p style=\"text-align:...</td>\n",
       "    </tr>\n",
       "    <tr>\n",
       "      <th>1</th>\n",
       "      <td>4309949</td>\n",
       "      <td>32.0</td>\n",
       "      <td>F</td>\n",
       "      <td>2023-11-01 12:10:59</td>\n",
       "      <td>&lt;html tasy=\"html5\"&gt;&lt;body&gt;&lt;p style=\"text-align:...</td>\n",
       "    </tr>\n",
       "    <tr>\n",
       "      <th>2</th>\n",
       "      <td>404932</td>\n",
       "      <td>91.0</td>\n",
       "      <td>M</td>\n",
       "      <td>2023-09-16 07:24:02</td>\n",
       "      <td>{\\rtf1\\ansi\\ansicpg1252{\\fonttbl{\\f0\\fnil\\fcha...</td>\n",
       "    </tr>\n",
       "    <tr>\n",
       "      <th>3</th>\n",
       "      <td>5603035</td>\n",
       "      <td>53.0</td>\n",
       "      <td>F</td>\n",
       "      <td>2024-08-03 06:56:48</td>\n",
       "      <td>RET 6 MESES PARA AVALIAÇÃO CALCIO + VIT D</td>\n",
       "    </tr>\n",
       "    <tr>\n",
       "      <th>4</th>\n",
       "      <td>154876</td>\n",
       "      <td>27.0</td>\n",
       "      <td>M</td>\n",
       "      <td>2023-11-05 04:58:01</td>\n",
       "      <td>{\\rtf1\\ansi\\ansicpg1252{\\fonttbl{\\f0\\fnil\\fcha...</td>\n",
       "    </tr>\n",
       "  </tbody>\n",
       "</table>\n",
       "</div>"
      ],
      "text/plain": [
       "   patient_id   age sex             ehr_date  \\\n",
       "0      341196  82.0   M  2023-09-05 10:23:37   \n",
       "1     4309949  32.0   F  2023-11-01 12:10:59   \n",
       "2      404932  91.0   M  2023-09-16 07:24:02   \n",
       "3     5603035  53.0   F  2024-08-03 06:56:48   \n",
       "4      154876  27.0   M  2023-11-05 04:58:01   \n",
       "\n",
       "                                                text  \n",
       "0  <html tasy=\"html5\"><body><p style=\"text-align:...  \n",
       "1  <html tasy=\"html5\"><body><p style=\"text-align:...  \n",
       "2  {\\rtf1\\ansi\\ansicpg1252{\\fonttbl{\\f0\\fnil\\fcha...  \n",
       "3          RET 6 MESES PARA AVALIAÇÃO CALCIO + VIT D  \n",
       "4  {\\rtf1\\ansi\\ansicpg1252{\\fonttbl{\\f0\\fnil\\fcha...  "
      ]
     },
     "execution_count": 10,
     "metadata": {},
     "output_type": "execute_result"
    }
   ],
   "source": [
    "df = pd.read_csv(raw_data_path)\n",
    "df.head()"
   ]
  },
  {
   "cell_type": "markdown",
   "id": "9e27f7fd-558c-4224-b989-32b343877c43",
   "metadata": {},
   "source": [
    "## Processamento dos dados"
   ]
  },
  {
   "cell_type": "code",
   "execution_count": 12,
   "id": "b67ff35c-b7fa-463c-ba4e-1fc4dc4de42b",
   "metadata": {},
   "outputs": [
    {
     "name": "stdout",
     "output_type": "stream",
     "text": [
      "Processando 5 textos...\n"
     ]
    },
    {
     "name": "stderr",
     "output_type": "stream",
     "text": [
      "Limpando textos: 100%|████████████████████████████████████████████████████████████████| 5/5 [00:36<00:00,  7.34s/texto]\n"
     ]
    }
   ],
   "source": [
    "df_teste = df.iloc[0:5]\n",
    "df_limpo = limpar_texto_com_claude(df_teste, 'text', api_key)"
   ]
  },
  {
   "cell_type": "code",
   "execution_count": 13,
   "id": "a98e686c-1392-4b27-ae10-efe85aface46",
   "metadata": {},
   "outputs": [
    {
     "data": {
      "text/html": [
       "<div>\n",
       "<style scoped>\n",
       "    .dataframe tbody tr th:only-of-type {\n",
       "        vertical-align: middle;\n",
       "    }\n",
       "\n",
       "    .dataframe tbody tr th {\n",
       "        vertical-align: top;\n",
       "    }\n",
       "\n",
       "    .dataframe thead th {\n",
       "        text-align: right;\n",
       "    }\n",
       "</style>\n",
       "<table border=\"1\" class=\"dataframe\">\n",
       "  <thead>\n",
       "    <tr style=\"text-align: right;\">\n",
       "      <th></th>\n",
       "      <th>patient_id</th>\n",
       "      <th>age</th>\n",
       "      <th>sex</th>\n",
       "      <th>ehr_date</th>\n",
       "      <th>text</th>\n",
       "      <th>texto_limpo</th>\n",
       "    </tr>\n",
       "  </thead>\n",
       "  <tbody>\n",
       "    <tr>\n",
       "      <th>0</th>\n",
       "      <td>341196</td>\n",
       "      <td>82.0</td>\n",
       "      <td>M</td>\n",
       "      <td>2023-09-05 10:23:37</td>\n",
       "      <td>&lt;html tasy=\"html5\"&gt;&lt;body&gt;&lt;p style=\"text-align:...</td>\n",
       "      <td>anamnese - centro clínico queixa principal: do...</td>\n",
       "    </tr>\n",
       "    <tr>\n",
       "      <th>1</th>\n",
       "      <td>4309949</td>\n",
       "      <td>32.0</td>\n",
       "      <td>F</td>\n",
       "      <td>2023-11-01 12:10:59</td>\n",
       "      <td>&lt;html tasy=\"html5\"&gt;&lt;body&gt;&lt;p style=\"text-align:...</td>\n",
       "      <td>paciente com cefaleia occipital, crise há 3 di...</td>\n",
       "    </tr>\n",
       "    <tr>\n",
       "      <th>2</th>\n",
       "      <td>404932</td>\n",
       "      <td>91.0</td>\n",
       "      <td>M</td>\n",
       "      <td>2023-09-16 07:24:02</td>\n",
       "      <td>{\\rtf1\\ansi\\ansicpg1252{\\fonttbl{\\f0\\fnil\\fcha...</td>\n",
       "      <td>07:00 recebo plantão em posto de enfermagem.\\n...</td>\n",
       "    </tr>\n",
       "    <tr>\n",
       "      <th>3</th>\n",
       "      <td>5603035</td>\n",
       "      <td>53.0</td>\n",
       "      <td>F</td>\n",
       "      <td>2024-08-03 06:56:48</td>\n",
       "      <td>RET 6 MESES PARA AVALIAÇÃO CALCIO + VIT D</td>\n",
       "      <td>calcio vit d</td>\n",
       "    </tr>\n",
       "    <tr>\n",
       "      <th>4</th>\n",
       "      <td>154876</td>\n",
       "      <td>27.0</td>\n",
       "      <td>M</td>\n",
       "      <td>2023-11-05 04:58:01</td>\n",
       "      <td>{\\rtf1\\ansi\\ansicpg1252{\\fonttbl{\\f0\\fnil\\fcha...</td>\n",
       "      <td>paciente refere sinais e sintomas gripais, com...</td>\n",
       "    </tr>\n",
       "  </tbody>\n",
       "</table>\n",
       "</div>"
      ],
      "text/plain": [
       "   patient_id   age sex             ehr_date  \\\n",
       "0      341196  82.0   M  2023-09-05 10:23:37   \n",
       "1     4309949  32.0   F  2023-11-01 12:10:59   \n",
       "2      404932  91.0   M  2023-09-16 07:24:02   \n",
       "3     5603035  53.0   F  2024-08-03 06:56:48   \n",
       "4      154876  27.0   M  2023-11-05 04:58:01   \n",
       "\n",
       "                                                text  \\\n",
       "0  <html tasy=\"html5\"><body><p style=\"text-align:...   \n",
       "1  <html tasy=\"html5\"><body><p style=\"text-align:...   \n",
       "2  {\\rtf1\\ansi\\ansicpg1252{\\fonttbl{\\f0\\fnil\\fcha...   \n",
       "3          RET 6 MESES PARA AVALIAÇÃO CALCIO + VIT D   \n",
       "4  {\\rtf1\\ansi\\ansicpg1252{\\fonttbl{\\f0\\fnil\\fcha...   \n",
       "\n",
       "                                         texto_limpo  \n",
       "0  anamnese - centro clínico queixa principal: do...  \n",
       "1  paciente com cefaleia occipital, crise há 3 di...  \n",
       "2  07:00 recebo plantão em posto de enfermagem.\\n...  \n",
       "3                                       calcio vit d  \n",
       "4  paciente refere sinais e sintomas gripais, com...  "
      ]
     },
     "execution_count": 13,
     "metadata": {},
     "output_type": "execute_result"
    }
   ],
   "source": [
    "df_limpo"
   ]
  },
  {
   "cell_type": "code",
   "execution_count": 14,
   "id": "c5124998-04c4-4ad0-8b75-9cf87f3298fb",
   "metadata": {},
   "outputs": [
    {
     "data": {
      "text/plain": [
       "'anamnese - centro clínico queixa principal: dor inguinoescrotal esq a/e alergias: nega alergia à medicamentos hda: hpp: sinais vitais pa: x fc: fr: t: dor: exame físico: hipótese diagnóstica: hernia inguinal conduta: exames'"
      ]
     },
     "execution_count": 14,
     "metadata": {},
     "output_type": "execute_result"
    }
   ],
   "source": [
    "df_limpo.texto_limpo[0]"
   ]
  },
  {
   "cell_type": "code",
   "execution_count": null,
   "id": "f97429c3-0423-4fd3-9425-d094ef90ca87",
   "metadata": {},
   "outputs": [],
   "source": []
  }
 ],
 "metadata": {
  "kernelspec": {
   "display_name": "Python 3 (ipykernel)",
   "language": "python",
   "name": "python3"
  },
  "language_info": {
   "codemirror_mode": {
    "name": "ipython",
    "version": 3
   },
   "file_extension": ".py",
   "mimetype": "text/x-python",
   "name": "python",
   "nbconvert_exporter": "python",
   "pygments_lexer": "ipython3",
   "version": "3.12.3"
  }
 },
 "nbformat": 4,
 "nbformat_minor": 5
}
